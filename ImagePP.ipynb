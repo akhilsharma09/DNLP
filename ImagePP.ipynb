{
 "cells": [
  {
   "cell_type": "code",
   "execution_count": 1,
   "id": "fdf33c5d",
   "metadata": {},
   "outputs": [],
   "source": [
    "import tensorflow as tf\n",
    "from keras.preprocessing.image import ImageDataGenerator"
   ]
  },
  {
   "cell_type": "code",
   "execution_count": 2,
   "id": "07b8fd75",
   "metadata": {},
   "outputs": [
    {
     "data": {
      "text/plain": [
       "'2.9.1'"
      ]
     },
     "execution_count": 2,
     "metadata": {},
     "output_type": "execute_result"
    }
   ],
   "source": [
    "tf.__version__"
   ]
  },
  {
   "cell_type": "code",
   "execution_count": 3,
   "id": "d469a0e3",
   "metadata": {},
   "outputs": [
    {
     "name": "stdout",
     "output_type": "stream",
     "text": [
      "Found 8000 images belonging to 2 classes.\n"
     ]
    }
   ],
   "source": [
    "#Data Preprocessing\n",
    "\n",
    "train_datagen = ImageDataGenerator(rescale = 1./255,\n",
    "                                   shear_range = 0.2,\n",
    "                                   zoom_range = 0.2,\n",
    "                                   horizontal_flip = True)\n",
    "training_set = train_datagen.flow_from_directory('training_set',\n",
    "                                                 target_size = (64, 64),\n",
    "                                                 batch_size = 32,\n",
    "                                                 class_mode = 'binary')"
   ]
  },
  {
   "cell_type": "code",
   "execution_count": 4,
   "id": "b4f9a0d0",
   "metadata": {},
   "outputs": [
    {
     "name": "stdout",
     "output_type": "stream",
     "text": [
      "Found 2000 images belonging to 2 classes.\n"
     ]
    }
   ],
   "source": [
    "#Preprocessing\n",
    "\n",
    "test_datagen = ImageDataGenerator(rescale = 1./255)\n",
    "test_set = test_datagen.flow_from_directory('test_set',\n",
    "                                            target_size = (64, 64),\n",
    "                                            batch_size = 32,\n",
    "                                            class_mode = 'binary')"
   ]
  },
  {
   "cell_type": "code",
   "execution_count": 5,
   "id": "cc6b47c2",
   "metadata": {},
   "outputs": [],
   "source": [
    "#Initializing the CNN\n",
    "\n",
    "cnn = tf.keras.models.Sequential()"
   ]
  },
  {
   "cell_type": "code",
   "execution_count": 6,
   "id": "4830512a",
   "metadata": {},
   "outputs": [],
   "source": [
    "#Step 1 - Convolution\n",
    "\n",
    "cnn.add(tf.keras.layers.Conv2D(filters=32, kernel_size=3, activation='relu', input_shape=[64, 64, 3]))"
   ]
  },
  {
   "cell_type": "code",
   "execution_count": 7,
   "id": "f44e277d",
   "metadata": {},
   "outputs": [],
   "source": [
    "#Step 2 - Pooling\n",
    "\n",
    "cnn.add(tf.keras.layers.MaxPool2D(pool_size=2, strides=2))"
   ]
  },
  {
   "cell_type": "code",
   "execution_count": 8,
   "id": "46fe5096",
   "metadata": {},
   "outputs": [],
   "source": [
    "#Step 3 - Flattening\n",
    "\n",
    "cnn.add(tf.keras.layers.Flatten())\n",
    "\n",
    "#Step 4 - Full Connection\n",
    "\n",
    "cnn.add(tf.keras.layers.Dense(units=128, activation='relu'))\n",
    "\n",
    "#Step 5 - Output Layer\n",
    "\n",
    "cnn.add(tf.keras.layers.Dense(units=1, activation='sigmoid'))"
   ]
  },
  {
   "cell_type": "code",
   "execution_count": 12,
   "id": "f2bafec9",
   "metadata": {},
   "outputs": [
    {
     "name": "stdout",
     "output_type": "stream",
     "text": [
      "Epoch 1/20\n",
      "250/250 [==============================] - 85s 334ms/step - loss: 0.5541 - accuracy: 0.7159 - val_loss: 0.5718 - val_accuracy: 0.7055\n",
      "Epoch 2/20\n",
      "250/250 [==============================] - 81s 325ms/step - loss: 0.5310 - accuracy: 0.7305 - val_loss: 0.5435 - val_accuracy: 0.7345\n",
      "Epoch 3/20\n",
      "250/250 [==============================] - 82s 328ms/step - loss: 0.5206 - accuracy: 0.7449 - val_loss: 0.5715 - val_accuracy: 0.7145\n",
      "Epoch 4/20\n",
      "250/250 [==============================] - 81s 325ms/step - loss: 0.5097 - accuracy: 0.7459 - val_loss: 0.5454 - val_accuracy: 0.7245\n",
      "Epoch 5/20\n",
      "250/250 [==============================] - 83s 331ms/step - loss: 0.4985 - accuracy: 0.7570 - val_loss: 0.5525 - val_accuracy: 0.7235\n",
      "Epoch 6/20\n",
      "250/250 [==============================] - 84s 337ms/step - loss: 0.5030 - accuracy: 0.7527 - val_loss: 0.5200 - val_accuracy: 0.7450\n",
      "Epoch 7/20\n",
      "250/250 [==============================] - 83s 331ms/step - loss: 0.4861 - accuracy: 0.7601 - val_loss: 0.5362 - val_accuracy: 0.7440\n",
      "Epoch 8/20\n",
      "250/250 [==============================] - 99s 396ms/step - loss: 0.4782 - accuracy: 0.7669 - val_loss: 0.5168 - val_accuracy: 0.7565\n",
      "Epoch 9/20\n",
      "250/250 [==============================] - 82s 329ms/step - loss: 0.4718 - accuracy: 0.7673 - val_loss: 0.5364 - val_accuracy: 0.7500\n",
      "Epoch 10/20\n",
      "250/250 [==============================] - 82s 327ms/step - loss: 0.4621 - accuracy: 0.7807 - val_loss: 0.5144 - val_accuracy: 0.7385\n",
      "Epoch 11/20\n",
      "250/250 [==============================] - 82s 330ms/step - loss: 0.4648 - accuracy: 0.7756 - val_loss: 0.5009 - val_accuracy: 0.7640\n",
      "Epoch 12/20\n",
      "250/250 [==============================] - 82s 330ms/step - loss: 0.4513 - accuracy: 0.7878 - val_loss: 0.5028 - val_accuracy: 0.7670\n",
      "Epoch 13/20\n",
      "250/250 [==============================] - 87s 347ms/step - loss: 0.4472 - accuracy: 0.7864 - val_loss: 0.5259 - val_accuracy: 0.7520\n",
      "Epoch 14/20\n",
      "250/250 [==============================] - 9900s 40s/step - loss: 0.4419 - accuracy: 0.7926 - val_loss: 0.5199 - val_accuracy: 0.7560\n",
      "Epoch 15/20\n",
      "250/250 [==============================] - 87s 346ms/step - loss: 0.4477 - accuracy: 0.7870 - val_loss: 0.5087 - val_accuracy: 0.7680\n",
      "Epoch 16/20\n",
      "250/250 [==============================] - 82s 330ms/step - loss: 0.4386 - accuracy: 0.7914 - val_loss: 0.5177 - val_accuracy: 0.7650\n",
      "Epoch 17/20\n",
      "250/250 [==============================] - 82s 328ms/step - loss: 0.4353 - accuracy: 0.7925 - val_loss: 0.5276 - val_accuracy: 0.7600\n",
      "Epoch 18/20\n",
      "250/250 [==============================] - 83s 330ms/step - loss: 0.4318 - accuracy: 0.7989 - val_loss: 0.5116 - val_accuracy: 0.7695\n",
      "Epoch 19/20\n",
      "250/250 [==============================] - 83s 331ms/step - loss: 0.4241 - accuracy: 0.7997 - val_loss: 0.5357 - val_accuracy: 0.7695\n",
      "Epoch 20/20\n",
      "250/250 [==============================] - 82s 329ms/step - loss: 0.4164 - accuracy: 0.8070 - val_loss: 0.5316 - val_accuracy: 0.7790\n"
     ]
    },
    {
     "data": {
      "text/plain": [
       "<keras.callbacks.History at 0x7fb4a4ccce50>"
      ]
     },
     "execution_count": 12,
     "metadata": {},
     "output_type": "execute_result"
    }
   ],
   "source": [
    "#Part 3 - Training the CNN\n",
    "#Compiling the CNN\n",
    "\n",
    "cnn.compile(optimizer = 'adam', loss = 'binary_crossentropy', metrics = ['accuracy'])\n",
    "\n",
    "#Training the CNN on the Training set and evaluating it on the Test set\n",
    "\n",
    "cnn.fit(x = training_set, validation_data = test_set, epochs = 20)"
   ]
  },
  {
   "cell_type": "code",
   "execution_count": 14,
   "id": "2848ae14",
   "metadata": {},
   "outputs": [
    {
     "name": "stdout",
     "output_type": "stream",
     "text": [
      "1/1 [==============================] - 0s 21ms/step\n",
      "dog\n"
     ]
    }
   ],
   "source": [
    "#Part 4 - Making a single prediction\n",
    "\n",
    "import numpy as np\n",
    "from tensorflow.keras.preprocessing import image\n",
    "test_image = image.load_img('single_prediction/cat_or_dog_1.jpg', target_size = (64, 64))\n",
    "test_image = image.img_to_array(test_image)\n",
    "test_image = np.expand_dims(test_image, axis = 0)\n",
    "result = cnn.predict(test_image)\n",
    "training_set.class_indices\n",
    "if result[0][0] == 1:\n",
    "  prediction = 'dog'\n",
    "else:\n",
    "  prediction = 'cat'\n",
    "\n",
    "print(prediction)"
   ]
  },
  {
   "cell_type": "code",
   "execution_count": null,
   "id": "658d622c",
   "metadata": {},
   "outputs": [],
   "source": []
  },
  {
   "cell_type": "code",
   "execution_count": null,
   "id": "ed69c0f2",
   "metadata": {},
   "outputs": [],
   "source": []
  }
 ],
 "metadata": {
  "kernelspec": {
   "display_name": "Python 3",
   "language": "python",
   "name": "python3"
  },
  "language_info": {
   "codemirror_mode": {
    "name": "ipython",
    "version": 3
   },
   "file_extension": ".py",
   "mimetype": "text/x-python",
   "name": "python",
   "nbconvert_exporter": "python",
   "pygments_lexer": "ipython3",
   "version": "3.8.8"
  }
 },
 "nbformat": 4,
 "nbformat_minor": 5
}
